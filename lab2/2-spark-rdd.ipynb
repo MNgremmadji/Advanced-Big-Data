{
 "cells": [
  {
   "cell_type": "markdown",
   "metadata": {},
   "source": [
    "# Advanced Big Data: Introduction to Spark programming"
   ]
  },
  {
   "cell_type": "markdown",
   "metadata": {},
   "source": [
    "------------------------------------\n",
    "# Author:\n",
    "- Mohamed NIANG, Data Scientist at Paris-Saclay University\n",
    "\n",
    "# Teacher:\n",
    "- Youcef Sebiat, Data Engineer / Scientist at CMAP / Lead Data Scientist at l'X École Polytechnique\n",
    "- e-mail address: youcef.sebiat@polytechnique.edu\n",
    "-----------------------------------"
   ]
  },
  {
   "cell_type": "markdown",
   "metadata": {},
   "source": [
    "# Word Count\n",
    "\n",
    "The \"Hello World!\" of distributed programming is the wordcount. Basically, you want to count easily number of different words contained in an unstructured text. You will write some code to perform this task on the [Complete Works of William Shakespeare](http://www.gutenberg.org/ebooks/100) retrieved from [Project Gutenberg](http://www.gutenberg.org/wiki/Main_Page).\n",
    "\n",
    "[Spark's Python API reference](https://spark.apache.org/docs/latest/api/python/pyspark.html#pyspark.RDD) could provide some help\n",
    "\n",
    "### ** Part 1: Creating a base RDD and pair RDDs **\n",
    "\n",
    "#### In this part of the lab, we will explore creating a base RDD with `parallelize` and using pair RDDs to count words.\n",
    "\n",
    "#### We'll start by generating a base RDD by using a Python list and the `sc.parallelize` method.  Then we'll print out the type of the base RDD."
   ]
  },
  {
   "cell_type": "code",
   "execution_count": 3,
   "metadata": {},
   "outputs": [
    {
     "data": {
      "text/html": [
       "<style scoped>\n",
       "  .ansiout {\n",
       "    display: block;\n",
       "    unicode-bidi: embed;\n",
       "    white-space: pre-wrap;\n",
       "    word-wrap: break-word;\n",
       "    word-break: break-all;\n",
       "    font-family: \"Source Code Pro\", \"Menlo\", monospace;;\n",
       "    font-size: 13px;\n",
       "    color: #555;\n",
       "    margin-left: 4px;\n",
       "    line-height: 19px;\n",
       "  }\n",
       "</style>\n",
       "<div class=\"ansiout\"></div>"
      ]
     },
     "metadata": {},
     "output_type": "display_data"
    }
   ],
   "source": [
    "import hashlib\n",
    "\n",
    "class TestFailure(Exception):\n",
    "    pass\n",
    "class PrivateTestFailure(Exception):\n",
    "    pass\n",
    "\n",
    "class Test(object):\n",
    "    passed = 0\n",
    "    numTests = 0\n",
    "    failFast = False\n",
    "    private = False\n",
    "\n",
    "    @classmethod\n",
    "    def setFailFast(cls):\n",
    "        cls.failFast = True\n",
    "\n",
    "    @classmethod\n",
    "    def setPrivateMode(cls):\n",
    "        cls.private = True\n",
    "\n",
    "    @classmethod\n",
    "    def assertTrue(cls, result, msg=\"\"):\n",
    "        cls.numTests += 1\n",
    "        if result == True:\n",
    "            cls.passed += 1\n",
    "            print(\"1 test passed.\")\n",
    "        else:\n",
    "            print(\"1 test failed. \" + msg)\n",
    "        if cls.failFast:\n",
    "            if cls.private:\n",
    "                raise PrivateTestFailure(msg)\n",
    "            else:\n",
    "                raise TestFailure(msg)\n",
    "\n",
    "    @classmethod\n",
    "    def assertEquals(cls, var, val, msg=\"\"):\n",
    "        cls.assertTrue(var == val, msg)\n",
    "\n",
    "    @classmethod\n",
    "    def assertEqualsHashed(cls, var, hashed_val, msg=\"\"):\n",
    "        cls.assertEquals(cls._hash(var), hashed_val, msg)\n",
    "\n",
    "    @classmethod\n",
    "    def printStats(cls):\n",
    "        print(\"{0} / {1} test(s) passed.\".format(cls.passed, cls.numTests))\n",
    "\n",
    "    @classmethod\n",
    "    def _hash(cls, x):\n",
    "        return hashlib.sha1(str(x).encode('utf-8')).hexdigest()"
   ]
  },
  {
   "cell_type": "code",
   "execution_count": 4,
   "metadata": {},
   "outputs": [
    {
     "data": {
      "text/html": [
       "<style scoped>\n",
       "  .ansiout {\n",
       "    display: block;\n",
       "    unicode-bidi: embed;\n",
       "    white-space: pre-wrap;\n",
       "    word-wrap: break-word;\n",
       "    word-break: break-all;\n",
       "    font-family: \"Source Code Pro\", \"Menlo\", monospace;;\n",
       "    font-size: 13px;\n",
       "    color: #555;\n",
       "    margin-left: 4px;\n",
       "    line-height: 19px;\n",
       "  }\n",
       "</style>\n",
       "<div class=\"ansiout\">&lt;class &#39;pyspark.rdd.RDD&#39;&gt;\n",
       "</div>"
      ]
     },
     "metadata": {},
     "output_type": "display_data"
    }
   ],
   "source": [
    "words_list = ['we', 'few', 'we', 'happy', 'few', \"we\", \"band\", \"of\", \"brothers\"]\n",
    "words_RDD = sc.parallelize(words_list, 4)\n",
    "\n",
    "# Print the type of words_RDD\n",
    "print(type(words_RDD))"
   ]
  },
  {
   "cell_type": "markdown",
   "metadata": {},
   "source": [
    "We want to capitalize each word contained in a RDD. For such transformation, we use a `map`, as we want to transform a RDD of **n** elements into another RDD of **n** using a function that gets and returns one single element.\n",
    "\n",
    "Please implement `capitalize`function in the cell below.\n",
    "\n",
    "*Point: 0.5 pts*"
   ]
  },
  {
   "cell_type": "code",
   "execution_count": 6,
   "metadata": {},
   "outputs": [
    {
     "data": {
      "text/html": [
       "<style scoped>\n",
       "  .ansiout {\n",
       "    display: block;\n",
       "    unicode-bidi: embed;\n",
       "    white-space: pre-wrap;\n",
       "    word-wrap: break-word;\n",
       "    word-break: break-all;\n",
       "    font-family: \"Source Code Pro\", \"Menlo\", monospace;;\n",
       "    font-size: 13px;\n",
       "    color: #555;\n",
       "    margin-left: 4px;\n",
       "    line-height: 19px;\n",
       "  }\n",
       "</style>\n",
       "<div class=\"ansiout\">We\n",
       "1 test passed.\n",
       "</div>"
      ]
     },
     "metadata": {},
     "output_type": "display_data"
    }
   ],
   "source": [
    "def capitalize(word):\n",
    "    \"\"\"Capitalize lowercase `words`.\n",
    "\n",
    "    Args:\n",
    "        word (str): A lowercase string.\n",
    "\n",
    "    Returns:\n",
    "        str: A string which first letter is uppercase.\n",
    "    \"\"\"\n",
    "    return word.capitalize()\n",
    "\n",
    "print(capitalize('we'))\n",
    "\n",
    "Test.assertEquals(capitalize('we'), 'We', \"Capitalize\")"
   ]
  },
  {
   "cell_type": "markdown",
   "metadata": {},
   "source": [
    "Apply `capitalize` to the base RDD, using a [map()](http://spark.apache.org/docs/latest/api/python/pyspark.html#pyspark.RDD.map) transformation that applies the `capitalize()` function to each element. Then call the [collect()](http://spark.apache.org/docs/latest/api/python/pyspark.html#pyspark.RDD.collect) action to retrieve the values of the transformed RDD, and print them.\n",
    "\n",
    "*Point: 0.5 pts*"
   ]
  },
  {
   "cell_type": "code",
   "execution_count": 8,
   "metadata": {},
   "outputs": [
    {
     "data": {
      "text/html": [
       "<style scoped>\n",
       "  .ansiout {\n",
       "    display: block;\n",
       "    unicode-bidi: embed;\n",
       "    white-space: pre-wrap;\n",
       "    word-wrap: break-word;\n",
       "    word-break: break-all;\n",
       "    font-family: \"Source Code Pro\", \"Menlo\", monospace;;\n",
       "    font-size: 13px;\n",
       "    color: #555;\n",
       "    margin-left: 4px;\n",
       "    line-height: 19px;\n",
       "  }\n",
       "</style>\n",
       "<div class=\"ansiout\">[&#39;We&#39;, &#39;Few&#39;, &#39;We&#39;, &#39;Happy&#39;, &#39;Few&#39;, &#39;We&#39;, &#39;Band&#39;, &#39;Of&#39;, &#39;Brothers&#39;]\n",
       "1 test passed.\n",
       "</div>"
      ]
     },
     "metadata": {},
     "output_type": "display_data"
    }
   ],
   "source": [
    "capital_RDD = words_RDD.map(capitalize)\n",
    "local_result = capital_RDD.collect()\n",
    "print(local_result)\n",
    "\n",
    "Test.assertEqualsHashed(local_result, 'bd73c54004cc9655159aceb703bc14fe93369fb1',\n",
    "                        'incorrect value for local_data')"
   ]
  },
  {
   "cell_type": "markdown",
   "metadata": {},
   "source": [
    "Do the same using a lambda function\n",
    "\n",
    "*Point: 0.5 pts*"
   ]
  },
  {
   "cell_type": "code",
   "execution_count": 10,
   "metadata": {},
   "outputs": [
    {
     "data": {
      "text/html": [
       "<style scoped>\n",
       "  .ansiout {\n",
       "    display: block;\n",
       "    unicode-bidi: embed;\n",
       "    white-space: pre-wrap;\n",
       "    word-wrap: break-word;\n",
       "    word-break: break-all;\n",
       "    font-family: \"Source Code Pro\", \"Menlo\", monospace;;\n",
       "    font-size: 13px;\n",
       "    color: #555;\n",
       "    margin-left: 4px;\n",
       "    line-height: 19px;\n",
       "  }\n",
       "</style>\n",
       "<div class=\"ansiout\">[&#39;We&#39;, &#39;Few&#39;, &#39;We&#39;, &#39;Happy&#39;, &#39;Few&#39;, &#39;We&#39;, &#39;Band&#39;, &#39;Of&#39;, &#39;Brothers&#39;]\n",
       "1 test passed.\n",
       "</div>"
      ]
     },
     "metadata": {},
     "output_type": "display_data"
    }
   ],
   "source": [
    "capital_lambda_RDD = words_RDD.map(lambda x: capitalize(x))\n",
    "local_result = capital_RDD.collect()\n",
    "print(local_result)\n",
    "\n",
    "Test.assertEqualsHashed(local_result, 'bd73c54004cc9655159aceb703bc14fe93369fb1',\n",
    "                        'incorrect value for capital_lambda_RDD')"
   ]
  },
  {
   "cell_type": "markdown",
   "metadata": {},
   "source": [
    "Now use `map()` and a `lambda` function to return the number of characters in each word, and `collect` this result directly into a variable.\n",
    "\n",
    "*Point: 0.5 pts*"
   ]
  },
  {
   "cell_type": "code",
   "execution_count": 12,
   "metadata": {},
   "outputs": [
    {
     "data": {
      "text/html": [
       "<style scoped>\n",
       "  .ansiout {\n",
       "    display: block;\n",
       "    unicode-bidi: embed;\n",
       "    white-space: pre-wrap;\n",
       "    word-wrap: break-word;\n",
       "    word-break: break-all;\n",
       "    font-family: \"Source Code Pro\", \"Menlo\", monospace;;\n",
       "    font-size: 13px;\n",
       "    color: #555;\n",
       "    margin-left: 4px;\n",
       "    line-height: 19px;\n",
       "  }\n",
       "</style>\n",
       "<div class=\"ansiout\">[&#39;Wes&#39;, &#39;Fews&#39;, &#39;Wes&#39;, &#39;Happys&#39;, &#39;Fews&#39;, &#39;Wes&#39;, &#39;Bands&#39;, &#39;Ofs&#39;, &#39;Brotherss&#39;]\n",
       "1 test passed.\n",
       "</div>"
      ]
     },
     "metadata": {},
     "output_type": "display_data"
    }
   ],
   "source": [
    "plural_lengths = capital_RDD.map(lambda word: word + 's').collect()\n",
    "print(plural_lengths)\n",
    "\n",
    "Test.assertEqualsHashed(plural_lengths, '902b44b54b64f0df5a3e412d5d2f270480293fff',\n",
    "                  'incorrect values for plural_lengths')"
   ]
  },
  {
   "cell_type": "markdown",
   "metadata": {},
   "source": [
    "To program a wordcount, we will need `pair RDD` objects. A pair RDD is an RDD where each element is a pair tuple `(k, v)` where `k` is the key and `v` is the value. In this example, we will create a pair consisting of `('<word>', 1)` for each word element in the RDD.\n",
    "\n",
    "Create the pair RDD using the `map()` transformation with a `lambda()` on `words_RDD`.\n",
    "\n",
    "*Point: 0.5 pts*"
   ]
  },
  {
   "cell_type": "code",
   "execution_count": 14,
   "metadata": {},
   "outputs": [
    {
     "data": {
      "text/html": [
       "<style scoped>\n",
       "  .ansiout {\n",
       "    display: block;\n",
       "    unicode-bidi: embed;\n",
       "    white-space: pre-wrap;\n",
       "    word-wrap: break-word;\n",
       "    word-break: break-all;\n",
       "    font-family: \"Source Code Pro\", \"Menlo\", monospace;;\n",
       "    font-size: 13px;\n",
       "    color: #555;\n",
       "    margin-left: 4px;\n",
       "    line-height: 19px;\n",
       "  }\n",
       "</style>\n",
       "<div class=\"ansiout\">[(&#39;we&#39;, 1), (&#39;few&#39;, 1), (&#39;we&#39;, 1), (&#39;happy&#39;, 1), (&#39;few&#39;, 1), (&#39;we&#39;, 1), (&#39;band&#39;, 1), (&#39;of&#39;, 1), (&#39;brothers&#39;, 1)]\n",
       "1 test passed.\n",
       "</div>"
      ]
     },
     "metadata": {},
     "output_type": "display_data"
    }
   ],
   "source": [
    "words_pair_RDD = words_RDD.map(lambda word: (word, 1))\n",
    "print(words_pair_RDD.collect())\n",
    "\n",
    "Test.assertEqualsHashed(words_pair_RDD.collect(), 'fb67a530034e01395386569ef29bf5565b503ec6',\n",
    "                        \"incorrect value for wrods_pair_RDD\")"
   ]
  },
  {
   "cell_type": "markdown",
   "metadata": {},
   "source": [
    "Now, let's count the number of times a particular word appears in the RDD. There are multiple ways to perform the counting, but some are much less efficient or scalable than others.\n",
    "\n",
    "A naive approach would be to `collect()` all of the elements and count them in the driver program. While this approach could work for small datasets, it is not scalable as the result of `collect()` would have to fit in the driver's memory. When you should use `collect()` with care, always asking yourself what is the size of data you want to retrieve.\n",
    "\n",
    "In order to program a scalable wordcount, you will need to use parallel operations.\n",
    "\n",
    "#### `groupByKey()` approach\n",
    "\n",
    "An approach you might first consider is based on using the [groupByKey()](http://spark.apache.org/docs/latest/api/python/pyspark.html#pyspark.RDD.groupByKey) transformation. This transformation groups all the elements of the RDD with the same key into a single list, stored in one of the partitions. \n",
    " \n",
    "Use `groupByKey()` on `words_pair_RDD`\n",
    " to generate a pair RDD of type `('word', list)`.\n",
    " \n",
    " *Point: 0.5 pts*"
   ]
  },
  {
   "cell_type": "code",
   "execution_count": 16,
   "metadata": {},
   "outputs": [
    {
     "data": {
      "text/html": [
       "<style scoped>\n",
       "  .ansiout {\n",
       "    display: block;\n",
       "    unicode-bidi: embed;\n",
       "    white-space: pre-wrap;\n",
       "    word-wrap: break-word;\n",
       "    word-break: break-all;\n",
       "    font-family: \"Source Code Pro\", \"Menlo\", monospace;;\n",
       "    font-size: 13px;\n",
       "    color: #555;\n",
       "    margin-left: 4px;\n",
       "    line-height: 19px;\n",
       "  }\n",
       "</style>\n",
       "<div class=\"ansiout\">of: [1]\n",
       "few: [1, 1]\n",
       "brothers: [1]\n",
       "we: [1, 1, 1]\n",
       "band: [1]\n",
       "happy: [1]\n",
       "1 test passed.\n",
       "</div>"
      ]
     },
     "metadata": {},
     "output_type": "display_data"
    }
   ],
   "source": [
    "words_grouped = words_pair_RDD.groupByKey()\n",
    "\n",
    "for key, value in words_grouped.collect():\n",
    "    print('{0}: {1}'.format(key, list(value)))\n",
    "    \n",
    "Test.assertEqualsHashed(sorted(words_grouped.mapValues(lambda x: list(x)).collect()),\n",
    "                  'fdaad77fd81ef2df23d98ff7fd438fa700ca1fcf',\n",
    "                  'incorrect value for words_grouped')"
   ]
  },
  {
   "cell_type": "markdown",
   "metadata": {},
   "source": [
    "Using the `groupByKey()` transformation results in an `pairRDD` containing words as keys, and Python iterators as values. Python iterators are a class of objects on which we can iterate, i.e.\n",
    "\n",
    "    a = some_iterator()\n",
    "    for elem in a:\n",
    "        # do stuff with elem\n",
    "\n",
    "Python lists and dictionnaries are iterators for example.\n",
    "\n",
    "Now sum the iterator using a `map()` transformation. The result should be a pair RDD consisting of (word, count) pairs.\n",
    "\n",
    "Hint: there exists a `sum` function\n",
    "Hint 2: you want to perform an operation only on the values of the pairRDD. Take a look at [mapValues()](http://spark.apache.org/docs/latest/api/python/pyspark.html#pyspark.RDD.mapValues).\n",
    "\n",
    "*Point: 0.5 pts*"
   ]
  },
  {
   "cell_type": "code",
   "execution_count": 18,
   "metadata": {},
   "outputs": [
    {
     "data": {
      "text/html": [
       "<style scoped>\n",
       "  .ansiout {\n",
       "    display: block;\n",
       "    unicode-bidi: embed;\n",
       "    white-space: pre-wrap;\n",
       "    word-wrap: break-word;\n",
       "    word-break: break-all;\n",
       "    font-family: \"Source Code Pro\", \"Menlo\", monospace;;\n",
       "    font-size: 13px;\n",
       "    color: #555;\n",
       "    margin-left: 4px;\n",
       "    line-height: 19px;\n",
       "  }\n",
       "</style>\n",
       "<div class=\"ansiout\">[(&#39;of&#39;, 1), (&#39;few&#39;, 2), (&#39;brothers&#39;, 1), (&#39;we&#39;, 3), (&#39;band&#39;, 1), (&#39;happy&#39;, 1)]\n",
       "1 test passed.\n",
       "</div>"
      ]
     },
     "metadata": {},
     "output_type": "display_data"
    }
   ],
   "source": [
    "word_grouped_counts = words_grouped.map(lambda kv: (kv[0], sum(kv[1])))\n",
    "print(word_grouped_counts.collect())\n",
    "\n",
    "Test.assertEqualsHashed(sorted(word_grouped_counts.collect()),\n",
    "                  'c20f05d36e98ae399b2cbe5b6cb9bf01b675455a',\n",
    "                  'incorrect value for word_grouped_counts')"
   ]
  },
  {
   "cell_type": "markdown",
   "metadata": {},
   "source": [
    "There are two problems with using `groupByKey()`:\n",
    "  + The operation requires a lot of data movement to move all the values into the appropriate partitions (remember the cost of network communications!).\n",
    "  + The lists can be very large. Consider a word count of English Wikipedia: the lists for common words (e.g., the, a, etc.) would be huge and could exhaust the available memory of a worker.\n",
    "\n",
    "A better approach is to start from the pair RDD and then use the [reduceByKey()](http://spark.apache.org/docs/latest/api/python/pyspark.html#pyspark.RDD.reduceByKey) transformation to create a new pair RDD. The `reduceByKey()` transformation gathers together pairs that have the same key and applies the function provided to two values at a time, iteratively reducing all of the values to a single value. `reduceByKey()` operates by applying the function first within each partition on a per-key basis and then across the partitions, allowing it to scale efficiently to large datasets.\n",
    "\n",
    "Compute the word count using `reduceByKey`\n",
    "\n",
    "*Point: 0.5 pts*"
   ]
  },
  {
   "cell_type": "code",
   "execution_count": 20,
   "metadata": {},
   "outputs": [
    {
     "data": {
      "text/html": [
       "<style scoped>\n",
       "  .ansiout {\n",
       "    display: block;\n",
       "    unicode-bidi: embed;\n",
       "    white-space: pre-wrap;\n",
       "    word-wrap: break-word;\n",
       "    word-break: break-all;\n",
       "    font-family: \"Source Code Pro\", \"Menlo\", monospace;;\n",
       "    font-size: 13px;\n",
       "    color: #555;\n",
       "    margin-left: 4px;\n",
       "    line-height: 19px;\n",
       "  }\n",
       "</style>\n",
       "<div class=\"ansiout\">[(&#39;of&#39;, 1), (&#39;few&#39;, 2), (&#39;brothers&#39;, 1), (&#39;we&#39;, 3), (&#39;band&#39;, 1), (&#39;happy&#39;, 1)]\n",
       "1 test passed.\n",
       "</div>"
      ]
     },
     "metadata": {},
     "output_type": "display_data"
    }
   ],
   "source": [
    "word_counts = words_pair_RDD.reduceByKey(lambda x, y: x+y)\n",
    "print(word_counts.collect())\n",
    "\n",
    "Test.assertEqualsHashed(sorted(word_counts.collect()), 'c20f05d36e98ae399b2cbe5b6cb9bf01b675455a',\n",
    "                  'incorrect value for word_counts')"
   ]
  },
  {
   "cell_type": "markdown",
   "metadata": {},
   "source": [
    "You should be able to perform the word count by composing functions, resulting in a smaller code. Use the `map()` on word RDD to create a pair RDD, apply the `reduceByKey()` transformation, and `collect` in one statement.\n",
    "\n",
    "*Point: 0.5 pts*"
   ]
  },
  {
   "cell_type": "code",
   "execution_count": 22,
   "metadata": {},
   "outputs": [
    {
     "data": {
      "text/html": [
       "<style scoped>\n",
       "  .ansiout {\n",
       "    display: block;\n",
       "    unicode-bidi: embed;\n",
       "    white-space: pre-wrap;\n",
       "    word-wrap: break-word;\n",
       "    word-break: break-all;\n",
       "    font-family: \"Source Code Pro\", \"Menlo\", monospace;;\n",
       "    font-size: 13px;\n",
       "    color: #555;\n",
       "    margin-left: 4px;\n",
       "    line-height: 19px;\n",
       "  }\n",
       "</style>\n",
       "<div class=\"ansiout\">[(&#39;of&#39;, 1), (&#39;few&#39;, 2), (&#39;brothers&#39;, 1), (&#39;we&#39;, 3), (&#39;band&#39;, 1), (&#39;happy&#39;, 1)]\n",
       "1 test passed.\n",
       "</div>"
      ]
     },
     "metadata": {},
     "output_type": "display_data"
    }
   ],
   "source": [
    "word_counts_collected = (words_RDD\n",
    "                         .map(lambda word: (word, 1))\n",
    "                         .reduceByKey(lambda x, y: x+y)\n",
    "                         .collect()\n",
    "                        )\n",
    "\n",
    "print(word_counts_collected)\n",
    "\n",
    "Test.assertEqualsHashed(sorted(word_counts_collected), 'c20f05d36e98ae399b2cbe5b6cb9bf01b675455a',\n",
    "                  'incorrect value for word_counts_collected')"
   ]
  },
  {
   "cell_type": "markdown",
   "metadata": {},
   "source": [
    "Compute the number of unique words using one of the RDD you have already created.\n",
    "\n",
    "*Point: 0.25 pts*"
   ]
  },
  {
   "cell_type": "code",
   "execution_count": 24,
   "metadata": {},
   "outputs": [
    {
     "data": {
      "text/html": [
       "<style scoped>\n",
       "  .ansiout {\n",
       "    display: block;\n",
       "    unicode-bidi: embed;\n",
       "    white-space: pre-wrap;\n",
       "    word-wrap: break-word;\n",
       "    word-break: break-all;\n",
       "    font-family: \"Source Code Pro\", \"Menlo\", monospace;;\n",
       "    font-size: 13px;\n",
       "    color: #555;\n",
       "    margin-left: 4px;\n",
       "    line-height: 19px;\n",
       "  }\n",
       "</style>\n",
       "<div class=\"ansiout\">6\n",
       "1 test passed.\n",
       "</div>"
      ]
     },
     "metadata": {},
     "output_type": "display_data"
    }
   ],
   "source": [
    "unique_words = word_counts.count()\n",
    "print(unique_words)\n",
    "\n",
    "Test.assertEquals(unique_words, 6, 'incorrect count of unique_words')"
   ]
  },
  {
   "cell_type": "markdown",
   "metadata": {},
   "source": [
    "Use a `reduce()` action to sum the counts in `wordCounts` and then divide by the number of unique words to find the mean number of words per unique word in `word_counts`.  First `map()` RDD `word_counts`, which consists of (key, value) pairs, to an RDD of values.\n",
    "\n",
    "*Point: 0.5 pts*"
   ]
  },
  {
   "cell_type": "code",
   "execution_count": 26,
   "metadata": {},
   "outputs": [
    {
     "data": {
      "text/html": [
       "<style scoped>\n",
       "  .ansiout {\n",
       "    display: block;\n",
       "    unicode-bidi: embed;\n",
       "    white-space: pre-wrap;\n",
       "    word-wrap: break-word;\n",
       "    word-break: break-all;\n",
       "    font-family: \"Source Code Pro\", \"Menlo\", monospace;;\n",
       "    font-size: 13px;\n",
       "    color: #555;\n",
       "    margin-left: 4px;\n",
       "    line-height: 19px;\n",
       "  }\n",
       "</style>\n",
       "<div class=\"ansiout\">9\n",
       "1.5\n",
       "1 test passed.\n",
       "</div>"
      ]
     },
     "metadata": {},
     "output_type": "display_data"
    }
   ],
   "source": [
    "from operator import add\n",
    "\n",
    "total_count = (word_counts\n",
    "              .map(lambda kv: kv[1])\n",
    "              .reduce(add))\n",
    "\n",
    "average = total_count / float(unique_words)\n",
    "print(total_count)\n",
    "print(round(average, 2))\n",
    "\n",
    "Test.assertEquals(round(average, 2), 1.5, 'incorrect value of average')"
   ]
  },
  {
   "cell_type": "markdown",
   "metadata": {},
   "source": [
    "## Part 2: Apply word count to a file\n",
    "\n",
    "In this section we will finish developing our word count application.  We'll have to build the `word_count` function, deal with real world problems like capitalization and punctuation, load in our data source, and compute the word count on the new data.\n",
    "\n",
    "First, define a function for word counting. You should reuse the techniques that have been covered in earlier parts of this lab.  This function should take in an RDD that is a list of words like `words_RDD` and return a pair RDD that has all of the words and their associated counts.\n",
    "\n",
    "*Point: 0.25 pts*"
   ]
  },
  {
   "cell_type": "code",
   "execution_count": 28,
   "metadata": {},
   "outputs": [
    {
     "data": {
      "text/html": [
       "<style scoped>\n",
       "  .ansiout {\n",
       "    display: block;\n",
       "    unicode-bidi: embed;\n",
       "    white-space: pre-wrap;\n",
       "    word-wrap: break-word;\n",
       "    word-break: break-all;\n",
       "    font-family: \"Source Code Pro\", \"Menlo\", monospace;;\n",
       "    font-size: 13px;\n",
       "    color: #555;\n",
       "    margin-left: 4px;\n",
       "    line-height: 19px;\n",
       "  }\n",
       "</style>\n",
       "<div class=\"ansiout\">[(&#39;of&#39;, 1), (&#39;few&#39;, 2), (&#39;brothers&#39;, 1), (&#39;we&#39;, 3), (&#39;band&#39;, 1), (&#39;happy&#39;, 1)]\n",
       "1 test passed.\n",
       "</div>"
      ]
     },
     "metadata": {},
     "output_type": "display_data"
    }
   ],
   "source": [
    "def word_count(word_list_RDD):\n",
    "    \"\"\"Creates a pair RDD with word counts from an RDD of words.\n",
    "\n",
    "    Args:\n",
    "        wordListRDD (RDD of str): An RDD consisting of words.\n",
    "\n",
    "    Returns:\n",
    "        RDD of (str, int): An RDD consisting of (word, count) tuples.\n",
    "    \"\"\"\n",
    "    return word_list_RDD.map(lambda word: (word, 1)).reduceByKey(add)\n",
    "\n",
    "print(word_count(words_RDD).collect())\n",
    "\n",
    "Test.assertEqualsHashed(sorted(word_count(words_RDD).collect()),\n",
    "                      'c20f05d36e98ae399b2cbe5b6cb9bf01b675455a',\n",
    "                      'incorrect definition for word_count function')"
   ]
  },
  {
   "cell_type": "markdown",
   "metadata": {},
   "source": [
    "Real world data is more complicated than the data we have been using in this lab. Some of the issues we have to address are:\n",
    "  + Words should be counted independent of their capitialization (e.g., Spark and spark should be counted as the same word).\n",
    "  + All punctuation should be removed.\n",
    "  + Any leading or trailing spaces on a line should be removed.\n",
    " \n",
    "Define the function `removePunctuation` that converts all text to lower case, removes any punctuation, and removes leading and trailing spaces.  Use the Python [re](https://docs.python.org/2/library/re.html) module to remove any text that is not a letter, number, or space. Reading `help(re.sub)` might be useful.\n",
    "\n",
    "If you have never used regex (regular expressions) before, you can refer to [Regular-expressions.info](http://www.regular-expressions.info/python.html)\n",
    "\n",
    "In order to test your regular expressions, you can use [Regex Tester](http://www.regexpal.com)\n",
    "\n",
    "Regex can be a bit obscure at beginning, don't hesitate to search in [StackOverflow](http://stackoverflow.com) or to ask me for some help.\n",
    "\n",
    "*Point: 1 pts*"
   ]
  },
  {
   "cell_type": "code",
   "execution_count": 30,
   "metadata": {},
   "outputs": [
    {
     "data": {
      "text/html": [
       "<style scoped>\n",
       "  .ansiout {\n",
       "    display: block;\n",
       "    unicode-bidi: embed;\n",
       "    white-space: pre-wrap;\n",
       "    word-wrap: break-word;\n",
       "    word-break: break-all;\n",
       "    font-family: \"Source Code Pro\", \"Menlo\", monospace;;\n",
       "    font-size: 13px;\n",
       "    color: #555;\n",
       "    margin-left: 4px;\n",
       "    line-height: 19px;\n",
       "  }\n",
       "</style>\n",
       "<div class=\"ansiout\">hello world\n",
       "no underscore\n",
       "1 test passed.\n",
       "</div>"
      ]
     },
     "metadata": {},
     "output_type": "display_data"
    }
   ],
   "source": [
    "import re\n",
    "import string\n",
    "\n",
    "# regex = re.compile('[%s]' % re.escape(string.punctuation), '', text)\n",
    "# Hint: string.punctuation contains all the punctuation symbols\n",
    "\n",
    "def remove_punctuation(text):\n",
    "    \"\"\"Removes punctuation, changes to lower case, and strips leading and trailing spaces.\n",
    "\n",
    "    Note:\n",
    "        Only spaces, letters, and numbers should be retained.  Other characters should should be\n",
    "        eliminated (e.g. it's becomes its).  Leading and trailing spaces should be removed after\n",
    "        punctuation is removed.\n",
    "\n",
    "    Args:\n",
    "        text (str): A string.\n",
    "\n",
    "    Returns:\n",
    "        str: The cleaned up string.\n",
    "    \"\"\"\n",
    "    return re.sub(r'[^a-z0-9\\s]','',text.lower()).strip()\n",
    "\n",
    "print(remove_punctuation('Hello World!'))\n",
    "print(remove_punctuation(' No under_score!'))\n",
    "\n",
    "Test.assertEquals(remove_punctuation(\"  Remove punctuation: there ARE trailing spaces. \"),\n",
    "                  'remove punctuation there are trailing spaces',\n",
    "                  'incorrect definition for remove_punctuation function')"
   ]
  },
  {
   "cell_type": "markdown",
   "metadata": {},
   "source": [
    "For the next part of this lab, we will use the [Complete Works of William Shakespeare](http://www.gutenberg.org/ebooks/100) from [Project Gutenberg](http://www.gutenberg.org/wiki/Main_Page). To convert a text file into an RDD, we use the `SparkContext.textFile()` method. We also apply the recently defined `remove_punctuation()` function using a `map()` transformation to strip out the punctuation and change all text to lowercase.  Since the file is large we use `take(15)`, instead of `collect()` so that we only print 15 lines.\n",
    "\n",
    "Take a look at [zipWithIndex()](http://spark.apache.org/docs/latest/api/python/pyspark.html#pyspark.RDD.zipWithIndex) and [take()](http://spark.apache.org/docs/latest/api/python/pyspark.html#pyspark.RDD.take) to understand the print statement\n",
    "\n",
    "*Point: 2 pts*"
   ]
  },
  {
   "cell_type": "code",
   "execution_count": 32,
   "metadata": {},
   "outputs": [
    {
     "data": {
      "text/html": [
       "<style scoped>\n",
       "  .ansiout {\n",
       "    display: block;\n",
       "    unicode-bidi: embed;\n",
       "    white-space: pre-wrap;\n",
       "    word-wrap: break-word;\n",
       "    word-break: break-all;\n",
       "    font-family: \"Source Code Pro\", \"Menlo\", monospace;;\n",
       "    font-size: 13px;\n",
       "    color: #555;\n",
       "    margin-left: 4px;\n",
       "    line-height: 19px;\n",
       "  }\n",
       "</style>\n",
       "<div class=\"ansiout\">1609: 0\n",
       ": 1\n",
       "the sonnets: 2\n",
       ": 3\n",
       "by william shakespeare: 4\n",
       ": 5\n",
       ": 6\n",
       ": 7\n",
       "1: 8\n",
       "from fairest creatures we desire increase: 9\n",
       "that thereby beautys rose might never die: 10\n",
       "but as the riper should by time decease: 11\n",
       "his tender heir might bear his memory: 12\n",
       "but thou contracted to thine own bright eyes: 13\n",
       "feedst thy lights flame with selfsubstantial fuel: 14\n",
       "</div>"
      ]
     },
     "metadata": {},
     "output_type": "display_data"
    }
   ],
   "source": [
    "file_path = '/FileStore/tables/files_shakespeare.txt'\n",
    "\n",
    "shakespeare_RDD = (sc.textFile(file_path, 8)\n",
    "                     .map(remove_punctuation))\n",
    "\n",
    "print('\\n'.join(shakespeare_RDD\n",
    "                .zipWithIndex()  # to (line, lineNum) pairRDD\n",
    "                .map(lambda l: '{0}: {1}'.format(l[0], l[1]))  # to 'lineNum: line'\n",
    "                .take(15)))"
   ]
  },
  {
   "cell_type": "markdown",
   "metadata": {},
   "source": [
    "Before we can use the `word_count()` function, we have to address two issues with the format of the RDD:\n",
    "  + #### The first issue is that  that we need to split each line by its spaces.\n",
    "  + #### The second issue is we need to filter out empty lines.\n",
    " \n",
    "Apply a transformation that will split each element of the RDD by its spaces. For each element of the RDD, you should apply Python's string [split()](https://docs.python.org/2/library/string.html#string.split) function. You might think that a [map()](http://spark.apache.org/docs/latest/api/python/pyspark.html#pyspark.RDD.map) transformation is the way to do this, but think about what the result of the `split()` function will be: there is a better option.\n",
    "\n",
    "Hint: remember the problem we had with `GroupByKey()`\n",
    "\n",
    "*Point: 1 pts*"
   ]
  },
  {
   "cell_type": "code",
   "execution_count": 34,
   "metadata": {},
   "outputs": [
    {
     "data": {
      "text/html": [
       "<style scoped>\n",
       "  .ansiout {\n",
       "    display: block;\n",
       "    unicode-bidi: embed;\n",
       "    white-space: pre-wrap;\n",
       "    word-wrap: break-word;\n",
       "    word-break: break-all;\n",
       "    font-family: \"Source Code Pro\", \"Menlo\", monospace;;\n",
       "    font-size: 13px;\n",
       "    color: #555;\n",
       "    margin-left: 4px;\n",
       "    line-height: 19px;\n",
       "  }\n",
       "</style>\n",
       "<div class=\"ansiout\">[&#39;zwaggerd&#39;, &#39;zounds&#39;, &#39;zounds&#39;, &#39;zounds&#39;, &#39;zounds&#39;]\n",
       "927694\n",
       "1 test passed.\n",
       "1 test passed.\n",
       "</div>"
      ]
     },
     "metadata": {},
     "output_type": "display_data"
    }
   ],
   "source": [
    "shakespeare_words_RDD = shakespeare_RDD.flatMap(lambda sentence: sentence.split(\" \"))\n",
    "shakespeare_word_count_elem = shakespeare_words_RDD.count()\n",
    "print(shakespeare_words_RDD.top(5))\n",
    "print(shakespeare_word_count_elem)\n",
    "\n",
    "# This test allows for leading spaces to be removed either before or after\n",
    "# punctuation is removed.\n",
    "Test.assertTrue(shakespeare_word_count_elem == 927694,\n",
    "                'incorrect value for shakespeare_word_count_elem')\n",
    "\n",
    "Test.assertEqualsHashed(shakespeare_words_RDD.top(5),\n",
    "                  'db4723f3c3190e69712b4cdf3ca67f21e86b04fd',\n",
    "                  'incorrect value for shakespeare_words_RDD')"
   ]
  },
  {
   "cell_type": "markdown",
   "metadata": {},
   "source": [
    "The next step is to filter out the empty elements.  Remove all entries where the word is `''`.\n",
    "\n",
    "*Point: 1 pts*"
   ]
  },
  {
   "cell_type": "code",
   "execution_count": 36,
   "metadata": {},
   "outputs": [
    {
     "data": {
      "text/html": [
       "<style scoped>\n",
       "  .ansiout {\n",
       "    display: block;\n",
       "    unicode-bidi: embed;\n",
       "    white-space: pre-wrap;\n",
       "    word-wrap: break-word;\n",
       "    word-break: break-all;\n",
       "    font-family: \"Source Code Pro\", \"Menlo\", monospace;;\n",
       "    font-size: 13px;\n",
       "    color: #555;\n",
       "    margin-left: 4px;\n",
       "    line-height: 19px;\n",
       "  }\n",
       "</style>\n",
       "<div class=\"ansiout\">882996\n",
       "1 test passed.\n",
       "</div>"
      ]
     },
     "metadata": {},
     "output_type": "display_data"
    }
   ],
   "source": [
    "shakespeare_nonempty_words_RDD = shakespeare_words_RDD.filter(lambda word: len(word) > 0)\n",
    "shakespeare_nonempty_word_elem_count = shakespeare_nonempty_words_RDD.count()\n",
    "print(shakespeare_nonempty_word_elem_count)\n",
    "\n",
    "Test.assertEquals(shakespeare_nonempty_word_elem_count, 882996, \n",
    "                  'incorrect value for shakespeare_nonempty_word_elem_count')"
   ]
  },
  {
   "cell_type": "markdown",
   "metadata": {},
   "source": [
    "You now have an RDD that contains only words.  Next, apply the `word_count()` function to produce a list of word counts. We can view the top 15 words by using the `takeOrdered()` action. However, since the elements of the RDD are pairs, you will need a custom sort function that sorts using the value part of the pair.\n",
    "\n",
    "Use the `wordCount()` function and `takeOrdered()` to obtain the fifteen most common words and their counts.\n",
    "\n",
    "*Point: 1 pts*"
   ]
  },
  {
   "cell_type": "code",
   "execution_count": 38,
   "metadata": {},
   "outputs": [
    {
     "data": {
      "text/html": [
       "<style scoped>\n",
       "  .ansiout {\n",
       "    display: block;\n",
       "    unicode-bidi: embed;\n",
       "    white-space: pre-wrap;\n",
       "    word-wrap: break-word;\n",
       "    word-break: break-all;\n",
       "    font-family: \"Source Code Pro\", \"Menlo\", monospace;;\n",
       "    font-size: 13px;\n",
       "    color: #555;\n",
       "    margin-left: 4px;\n",
       "    line-height: 19px;\n",
       "  }\n",
       "</style>\n",
       "<div class=\"ansiout\">: 44698\n",
       "the: 27361\n",
       "and: 26028\n",
       "i: 20681\n",
       "to: 19150\n",
       "of: 17463\n",
       "a: 14593\n",
       "you: 13615\n",
       "my: 12481\n",
       "in: 10956\n",
       "that: 10890\n",
       "is: 9134\n",
       "not: 8497\n",
       "with: 7771\n",
       "me: 7769\n",
       "</div>"
      ]
     },
     "metadata": {},
     "output_type": "display_data"
    }
   ],
   "source": [
    "top15_words = word_count(shakespeare_words_RDD).takeOrdered(15, key=lambda kv: -kv[1])\n",
    "print('\\n'.join(map(lambda wc: '{0}: {1}'.format(wc[0], wc[1]), top15_words)))"
   ]
  },
  {
   "cell_type": "code",
   "execution_count": 39,
   "metadata": {},
   "outputs": [
    {
     "data": {
      "text/html": [
       "<style scoped>\n",
       "  .ansiout {\n",
       "    display: block;\n",
       "    unicode-bidi: embed;\n",
       "    white-space: pre-wrap;\n",
       "    word-wrap: break-word;\n",
       "    word-break: break-all;\n",
       "    font-family: \"Source Code Pro\", \"Menlo\", monospace;;\n",
       "    font-size: 13px;\n",
       "    color: #555;\n",
       "    margin-left: 4px;\n",
       "    line-height: 19px;\n",
       "  }\n",
       "</style>\n",
       "<div class=\"ansiout\">1 test passed.\n",
       "</div>"
      ]
     },
     "metadata": {},
     "output_type": "display_data"
    }
   ],
   "source": [
    "Test.assertEqualsHashed(top15_words,\n",
    "                  '6c7e3c034edcd9c7e205b1023daa1eaa854502fb',\n",
    "                  'incorrect value for top15WordsAndCounts')"
   ]
  },
  {
   "cell_type": "markdown",
   "metadata": {},
   "source": [
    "You will notice that many of the words are common English words. These are called stopwords. In practice, when we do natural language processing, we filter these stopwords as they do not contain a lot of information."
   ]
  }
 ],
 "metadata": {
  "kernelspec": {
   "display_name": "Python 3",
   "language": "python",
   "name": "python3"
  },
  "language_info": {
   "codemirror_mode": {
    "name": "ipython",
    "version": 3
   },
   "file_extension": ".py",
   "mimetype": "text/x-python",
   "name": "python",
   "nbconvert_exporter": "python",
   "pygments_lexer": "ipython3",
   "version": "3.7.7"
  },
  "name": "2-spark-rdd",
  "notebookId": 2297270380942200
 },
 "nbformat": 4,
 "nbformat_minor": 4
}
